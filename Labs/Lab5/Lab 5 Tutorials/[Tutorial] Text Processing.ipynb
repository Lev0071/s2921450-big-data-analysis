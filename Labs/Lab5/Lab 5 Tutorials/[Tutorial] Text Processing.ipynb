{
 "cells": [
  {
   "cell_type": "code",
   "execution_count": 8,
   "metadata": {},
   "outputs": [
    {
     "name": "stdout",
     "output_type": "stream",
     "text": [
      "['Bryan', 'is', '', '', 'in', 'the', 'kitchen']\n"
     ]
    }
   ],
   "source": [
    "document = \"Bryan is   in the kitchen\"\n",
    "tokens = document.split(' ')\n",
    "print(tokens)"
   ]
  },
  {
   "cell_type": "code",
   "execution_count": 2,
   "metadata": {},
   "outputs": [
    {
     "name": "stdout",
     "output_type": "stream",
     "text": [
      "['Ai', \"n't\", 'no', 'sunshine', 'when', 'she', \"'s\", 'gone', '.', 'And', 'she', \"'s\", 'always', 'gone', 'too', 'long', '.', 'Anytime', 'she', 'goes', 'away']\n"
     ]
    }
   ],
   "source": [
    "document = \"Ain't no sunshine when she's gone. And she's always gone too long. Anytime she goes away\"\n",
    "\n",
    "from nltk.tokenize import word_tokenize\n",
    "tokens = word_tokenize(document)\n",
    "print(tokens)"
   ]
  },
  {
   "cell_type": "code",
   "execution_count": 3,
   "metadata": {},
   "outputs": [
    {
     "name": "stdout",
     "output_type": "stream",
     "text": [
      "['Ai', 'no', 'sunshine', 'when', 'she', 'gone', 'And', 'she', 'always', 'gone', 'too', 'long', 'Anytime', 'she', 'goes', 'away']\n"
     ]
    }
   ],
   "source": [
    "tokens = [t for t in tokens if t.isalpha()]\n",
    "print(tokens)"
   ]
  },
  {
   "cell_type": "code",
   "execution_count": 4,
   "metadata": {},
   "outputs": [
    {
     "name": "stderr",
     "output_type": "stream",
     "text": [
      "[nltk_data] Downloading package stopwords to /Users/ntt/nltk_data...\n",
      "[nltk_data]   Unzipping corpora/stopwords.zip.\n"
     ]
    },
    {
     "data": {
      "text/plain": [
       "True"
      ]
     },
     "execution_count": 4,
     "metadata": {},
     "output_type": "execute_result"
    }
   ],
   "source": [
    "import nltk\n",
    "nltk.download('stopwords')"
   ]
  },
  {
   "cell_type": "code",
   "execution_count": 6,
   "metadata": {},
   "outputs": [
    {
     "name": "stdout",
     "output_type": "stream",
     "text": [
      "['i', 'me', 'my', 'myself', 'we', 'our', 'ours', 'ourselves', 'you', \"you're\", \"you've\", \"you'll\", \"you'd\", 'your', 'yours', 'yourself', 'yourselves', 'he', 'him', 'his', 'himself', 'she', \"she's\", 'her', 'hers', 'herself', 'it', \"it's\", 'its', 'itself', 'they', 'them', 'their', 'theirs', 'themselves', 'what', 'which', 'who', 'whom', 'this', 'that', \"that'll\", 'these', 'those', 'am', 'is', 'are', 'was', 'were', 'be', 'been', 'being', 'have', 'has', 'had', 'having', 'do', 'does', 'did', 'doing', 'a', 'an', 'the', 'and', 'but', 'if', 'or', 'because', 'as', 'until', 'while', 'of', 'at', 'by', 'for', 'with', 'about', 'against', 'between', 'into', 'through', 'during', 'before', 'after', 'above', 'below', 'to', 'from', 'up', 'down', 'in', 'out', 'on', 'off', 'over', 'under', 'again', 'further', 'then', 'once', 'here', 'there', 'when', 'where', 'why', 'how', 'all', 'any', 'both', 'each', 'few', 'more', 'most', 'other', 'some', 'such', 'no', 'nor', 'not', 'only', 'own', 'same', 'so', 'than', 'too', 'very', 's', 't', 'can', 'will', 'just', 'don', \"don't\", 'should', \"should've\", 'now', 'd', 'll', 'm', 'o', 're', 've', 'y', 'ain', 'aren', \"aren't\", 'couldn', \"couldn't\", 'didn', \"didn't\", 'doesn', \"doesn't\", 'hadn', \"hadn't\", 'hasn', \"hasn't\", 'haven', \"haven't\", 'isn', \"isn't\", 'ma', 'mightn', \"mightn't\", 'mustn', \"mustn't\", 'needn', \"needn't\", 'shan', \"shan't\", 'shouldn', \"shouldn't\", 'wasn', \"wasn't\", 'weren', \"weren't\", 'won', \"won't\", 'wouldn', \"wouldn't\"]\n"
     ]
    }
   ],
   "source": [
    "from nltk.corpus import stopwords\n",
    "\n",
    "stop_words = stopwords.words('english')\n",
    "print(stop_words)"
   ]
  },
  {
   "cell_type": "code",
   "execution_count": 7,
   "metadata": {},
   "outputs": [
    {
     "name": "stdout",
     "output_type": "stream",
     "text": [
      "['Ai', 'sunshine', 'gone', 'And', 'always', 'gone', 'long', 'Anytime', 'goes', 'away']\n"
     ]
    }
   ],
   "source": [
    "tokens_no_stops = [t for t in tokens if t not in stop_words]\n",
    "print(tokens_no_stops)"
   ]
  },
  {
   "cell_type": "code",
   "execution_count": 8,
   "metadata": {},
   "outputs": [
    {
     "name": "stdout",
     "output_type": "stream",
     "text": [
      "connect connect connect\n"
     ]
    }
   ],
   "source": [
    "from nltk.stem import PorterStemmer\n",
    "from nltk.stem import WordNetLemmatizer\n",
    "\n",
    "stemmer = PorterStemmer()\n",
    "lemmatizer = WordNetLemmatizer()\n",
    "\n",
    "print(stemmer.stem('connection'), stemmer.stem('connected'), stemmer.stem('connective'))"
   ]
  },
  {
   "cell_type": "code",
   "execution_count": 9,
   "metadata": {},
   "outputs": [
    {
     "name": "stdout",
     "output_type": "stream",
     "text": [
      "mean mean\n"
     ]
    }
   ],
   "source": [
    "print(stemmer.stem('meaning'), stemmer.stem('meanness'))"
   ]
  },
  {
   "cell_type": "code",
   "execution_count": 12,
   "metadata": {},
   "outputs": [
    {
     "name": "stdout",
     "output_type": "stream",
     "text": [
      "['maximum', 'presum', 'multipli', 'provis', 'owe', 'ear', 'say', 'string', 'cri', 'meant', 'cement', 'is', 'are', 'spectra', 'live']\n",
      "['maximum', 'presumably', 'multiply', 'provision', 'owed', 'ear', 'saying', 'string', 'cry', 'meant', 'cement', 'is', 'are', 'spectrum', 'life']\n"
     ]
    }
   ],
   "source": [
    "raw_words = ['maximum', 'presumably', 'multiply', 'provision', 'owed', 'ear', 'saying', 'string', 'crying', 'meant', 'cement', 'is', 'are', 'spectra', 'lives']\n",
    "\n",
    "stemmed_words = [stemmer.stem(w) for w in raw_words]\n",
    "lem_words = [lemmatizer.lemmatize(w) for w in raw_words]\n",
    "print(stemmed_words)\n",
    "print(lem_words)"
   ]
  },
  {
   "cell_type": "code",
   "execution_count": 13,
   "metadata": {},
   "outputs": [
    {
     "name": "stdout",
     "output_type": "stream",
     "text": [
      "is\n",
      "be\n"
     ]
    }
   ],
   "source": [
    "print(lemmatizer.lemmatize('is', 'n'))\n",
    "print(lemmatizer.lemmatize('is', 'v'))"
   ]
  },
  {
   "cell_type": "code",
   "execution_count": 15,
   "metadata": {},
   "outputs": [
    {
     "name": "stderr",
     "output_type": "stream",
     "text": [
      "[nltk_data] Downloading package averaged_perceptron_tagger to\n",
      "[nltk_data]     /Users/ntt/nltk_data...\n",
      "[nltk_data]   Unzipping taggers/averaged_perceptron_tagger.zip.\n"
     ]
    },
    {
     "data": {
      "text/plain": [
       "[('maximum', 'NN'),\n",
       " ('presumably', 'RB'),\n",
       " ('multiply', 'VB'),\n",
       " ('provision', 'NN'),\n",
       " ('owed', 'VBN'),\n",
       " ('ear', 'IN'),\n",
       " ('saying', 'VBG'),\n",
       " ('string', 'VBG'),\n",
       " ('crying', 'VBG'),\n",
       " ('meant', 'JJ'),\n",
       " ('cement', 'NN'),\n",
       " ('is', 'VBZ'),\n",
       " ('are', 'VBP'),\n",
       " ('spectra', 'JJ'),\n",
       " ('lives', 'NNS')]"
      ]
     },
     "execution_count": 15,
     "metadata": {},
     "output_type": "execute_result"
    }
   ],
   "source": [
    "nltk.download('averaged_perceptron_tagger')\n",
    "nltk.pos_tag(raw_words)"
   ]
  },
  {
   "cell_type": "code",
   "execution_count": 19,
   "metadata": {},
   "outputs": [
    {
     "name": "stdout",
     "output_type": "stream",
     "text": [
      "bigrams: [('To', 'be'), ('be', 'or'), ('or', 'not'), ('not', 'to'), ('to', 'be')]\n",
      "trigrams: [('To', 'be', 'or'), ('be', 'or', 'not'), ('or', 'not', 'to'), ('not', 'to', 'be')]\n"
     ]
    }
   ],
   "source": [
    "# Import NLTK\n",
    "import nltk\n",
    "from nltk.tokenize import word_tokenize\n",
    "\n",
    "# Define the text\n",
    "text = \"To be or not to be\"\n",
    "\n",
    "# Tokenize the text\n",
    "tokens = word_tokenize(text)\n",
    "\n",
    "# Display the bigrams\n",
    "list(nltk.bigrams(tokens))\n",
    "\n",
    "from nltk.util import ngrams\n",
    "\n",
    "# Print the bigrams and trigrams\n",
    "print('bigrams:', list(ngrams(tokens, 2)))\n",
    "print('trigrams:', list(ngrams(tokens, 3)))"
   ]
  },
  {
   "cell_type": "code",
   "execution_count": 35,
   "metadata": {},
   "outputs": [
    {
     "name": "stdout",
     "output_type": "stream",
     "text": [
      "['Nicolas', 'loves', 'watch', 'Disney', 'movies', 'everybody', 'loves', 'Disney', 'movies', 'Pierre', 'loves', 'football', 'unlike', 'Nicolas']\n",
      "[{'everybody': 1}, {'Nicolas': 2}, {'Pierre': 1}, {'movies': 2}, {'unlike': 1}, {'football': 1}, {'Disney': 2}, {'watch': 1}, {'loves': 3}]\n",
      "9\n"
     ]
    }
   ],
   "source": [
    "text = \"Nicolas loves to watch Disney movies but everybody loves Disney movies. Pierre loves football, unlike Nicolas.\"\n",
    "\n",
    "tokens = word_tokenize(text)\n",
    "tokens_no_stops = [t for t in tokens if t not in stop_words]\n",
    "# print(tokens_no_stops)\n",
    "\n",
    "tokens = [t for t in tokens_no_stops if t.isalpha()]\n",
    "print(tokens)\n",
    "\n",
    "BOW = map(lambda x : {x:tokens.count(x)}, set(tokens))\n",
    "print(list(BOW))\n",
    "\n",
    "print(len(set(tokens)))"
   ]
  },
  {
   "cell_type": "code",
   "execution_count": 41,
   "metadata": {},
   "outputs": [
    {
     "name": "stdout",
     "output_type": "stream",
     "text": [
      "[[2 1 0 2 2 1 0 0 1]\n",
      " [0 0 1 1 0 1 1 1 0]]\n"
     ]
    }
   ],
   "source": [
    "from sklearn.feature_extraction.text import CountVectorizer\n",
    "\n",
    "data = ['\"Nicolas loves to watch Disney movies, but everybody loves Disney movies', 'Pierre loves football, unlike Nicolas.']\n",
    "\n",
    "vectorizer = CountVectorizer(max_features=1000, stop_words='english')\n",
    "BOW = vectorizer.fit_transform(data).toarray()\n",
    "\n",
    "print(BOW)"
   ]
  },
  {
   "cell_type": "code",
   "execution_count": 42,
   "metadata": {},
   "outputs": [
    {
     "name": "stdout",
     "output_type": "stream",
     "text": [
      "['disney', 'everybody', 'football', 'loves', 'movies', 'nicolas', 'pierre', 'unlike', 'watch']\n"
     ]
    }
   ],
   "source": [
    "tokens = vectorizer.get_feature_names()\n",
    "print(tokens)"
   ]
  },
  {
   "cell_type": "code",
   "execution_count": 43,
   "metadata": {},
   "outputs": [
    {
     "data": {
      "text/html": [
       "<div>\n",
       "<style scoped>\n",
       "    .dataframe tbody tr th:only-of-type {\n",
       "        vertical-align: middle;\n",
       "    }\n",
       "\n",
       "    .dataframe tbody tr th {\n",
       "        vertical-align: top;\n",
       "    }\n",
       "\n",
       "    .dataframe thead th {\n",
       "        text-align: right;\n",
       "    }\n",
       "</style>\n",
       "<table border=\"1\" class=\"dataframe\">\n",
       "  <thead>\n",
       "    <tr style=\"text-align: right;\">\n",
       "      <th></th>\n",
       "      <th>disney</th>\n",
       "      <th>everybody</th>\n",
       "      <th>football</th>\n",
       "      <th>loves</th>\n",
       "      <th>movies</th>\n",
       "      <th>nicolas</th>\n",
       "      <th>pierre</th>\n",
       "      <th>unlike</th>\n",
       "      <th>watch</th>\n",
       "    </tr>\n",
       "  </thead>\n",
       "  <tbody>\n",
       "    <tr>\n",
       "      <td>0</td>\n",
       "      <td>2</td>\n",
       "      <td>1</td>\n",
       "      <td>0</td>\n",
       "      <td>2</td>\n",
       "      <td>2</td>\n",
       "      <td>1</td>\n",
       "      <td>0</td>\n",
       "      <td>0</td>\n",
       "      <td>1</td>\n",
       "    </tr>\n",
       "    <tr>\n",
       "      <td>1</td>\n",
       "      <td>0</td>\n",
       "      <td>0</td>\n",
       "      <td>1</td>\n",
       "      <td>1</td>\n",
       "      <td>0</td>\n",
       "      <td>1</td>\n",
       "      <td>1</td>\n",
       "      <td>1</td>\n",
       "      <td>0</td>\n",
       "    </tr>\n",
       "  </tbody>\n",
       "</table>\n",
       "</div>"
      ],
      "text/plain": [
       "   disney  everybody  football  loves  movies  nicolas  pierre  unlike  watch\n",
       "0       2          1         0      2       2        1       0       0      1\n",
       "1       0          0         1      1       0        1       1       1      0"
      ]
     },
     "execution_count": 43,
     "metadata": {},
     "output_type": "execute_result"
    }
   ],
   "source": [
    "import pandas as pd\n",
    "\n",
    "df = pd.DataFrame(data=BOW, columns=tokens)\n",
    "df"
   ]
  },
  {
   "cell_type": "code",
   "execution_count": 82,
   "metadata": {},
   "outputs": [
    {
     "name": "stdout",
     "output_type": "stream",
     "text": [
      "a\n"
     ]
    }
   ],
   "source": [
    "import re\n",
    "pattern = r\"a\"\n",
    "match = re.match(pattern, \"abca\")\n",
    "print(match.group())"
   ]
  },
  {
   "cell_type": "code",
   "execution_count": 50,
   "metadata": {},
   "outputs": [
    {
     "name": "stdout",
     "output_type": "stream",
     "text": [
      "None\n"
     ]
    }
   ],
   "source": [
    "print(re.match(r\"[abc]\", \"b\"))"
   ]
  },
  {
   "cell_type": "code",
   "execution_count": 52,
   "metadata": {},
   "outputs": [
    {
     "name": "stdout",
     "output_type": "stream",
     "text": [
      "None\n"
     ]
    }
   ],
   "source": [
    "print(re.match(r\"[a-w]\", \"z\"))"
   ]
  },
  {
   "cell_type": "code",
   "execution_count": 54,
   "metadata": {},
   "outputs": [
    {
     "name": "stdout",
     "output_type": "stream",
     "text": [
      "None\n",
      "<re.Match object; span=(0, 1), match='V'>\n"
     ]
    }
   ],
   "source": [
    "print(re.match(r\"[a-z]\", \"V\"))\n",
    "print(re.match(r\"[a-zA-Z]\", \"V\"))"
   ]
  },
  {
   "cell_type": "code",
   "execution_count": 60,
   "metadata": {},
   "outputs": [
    {
     "name": "stdout",
     "output_type": "stream",
     "text": [
      "None\n",
      "<re.Match object; span=(0, 1), match='2'>\n",
      "None\n"
     ]
    }
   ],
   "source": [
    "print(re.match(r\".\", \"\\n\"))\n",
    "print(re.match(r\"\\d\", \"234524asd\"))\n",
    "print(re.match(r\"\\D\", \"234\"))"
   ]
  },
  {
   "cell_type": "code",
   "execution_count": 80,
   "metadata": {},
   "outputs": [
    {
     "name": "stdout",
     "output_type": "stream",
     "text": [
      "None\n"
     ]
    }
   ],
   "source": [
    "print(re.match(r\"\\s\", \"asdfa\\t\"))"
   ]
  },
  {
   "cell_type": "code",
   "execution_count": 86,
   "metadata": {},
   "outputs": [
    {
     "name": "stdout",
     "output_type": "stream",
     "text": [
      "['ad', 'a']\n"
     ]
    }
   ],
   "source": [
    "print(re.findall(r\"[a-z]+\", \"VadVa\"))"
   ]
  },
  {
   "cell_type": "code",
   "execution_count": 87,
   "metadata": {},
   "outputs": [
    {
     "name": "stdout",
     "output_type": "stream",
     "text": [
      "['ad']\n"
     ]
    }
   ],
   "source": [
    "print(re.findall(r\"[a-z]{2}\", \"VadVa\"))"
   ]
  },
  {
   "cell_type": "code",
   "execution_count": 89,
   "metadata": {},
   "outputs": [
    {
     "name": "stdout",
     "output_type": "stream",
     "text": [
      "[]\n"
     ]
    }
   ],
   "source": [
    "print(re.findall(r\"[a-z]{3,4}\", \"VadVa\"))"
   ]
  },
  {
   "cell_type": "code",
   "execution_count": 90,
   "metadata": {},
   "outputs": [
    {
     "name": "stdout",
     "output_type": "stream",
     "text": [
      "['', 'ad', '', 'a', '']\n"
     ]
    }
   ],
   "source": [
    "print(re.findall(r\"[a-z]*\", \"VadVa\"))"
   ]
  },
  {
   "cell_type": "code",
   "execution_count": 91,
   "metadata": {},
   "outputs": [
    {
     "name": "stdout",
     "output_type": "stream",
     "text": [
      "['', 'a', 'd', '', 'a', '']\n"
     ]
    }
   ],
   "source": [
    "print(re.findall(r\"[a-z]?\", \"VadVa\"))"
   ]
  },
  {
   "cell_type": "code",
   "execution_count": 95,
   "metadata": {},
   "outputs": [
    {
     "name": "stdout",
     "output_type": "stream",
     "text": [
      "I don't have many friends, but I have many cats.\n"
     ]
    }
   ],
   "source": [
    "print(re.sub(r\"\\sany\", \" many\", \"I don't have any friends, but I have many cats.\"))"
   ]
  },
  {
   "cell_type": "code",
   "execution_count": 97,
   "metadata": {},
   "outputs": [
    {
     "data": {
      "text/plain": [
       "\"Yes , you're right, Trump does not know what he is talking about\""
      ]
     },
     "execution_count": 97,
     "metadata": {},
     "output_type": "execute_result"
    }
   ],
   "source": [
    "my_tweet = \"Yes @Alchemy998, you're right, Trump does not know what he is talking about\"\n",
    "re.sub(r'@\\w+', '', my_tweet)"
   ]
  },
  {
   "cell_type": "code",
   "execution_count": null,
   "metadata": {},
   "outputs": [],
   "source": []
  }
 ],
 "metadata": {
  "kernelspec": {
   "display_name": "Python 3 (ipykernel)",
   "language": "python",
   "name": "python3"
  },
  "language_info": {
   "codemirror_mode": {
    "name": "ipython",
    "version": 3
   },
   "file_extension": ".py",
   "mimetype": "text/x-python",
   "name": "python",
   "nbconvert_exporter": "python",
   "pygments_lexer": "ipython3",
   "version": "3.9.7"
  }
 },
 "nbformat": 4,
 "nbformat_minor": 2
}
