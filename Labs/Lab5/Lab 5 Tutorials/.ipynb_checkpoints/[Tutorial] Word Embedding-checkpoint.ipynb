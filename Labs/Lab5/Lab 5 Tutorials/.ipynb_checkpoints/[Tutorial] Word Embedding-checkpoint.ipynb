{
 "cells": [
  {
   "cell_type": "code",
   "execution_count": 4,
   "metadata": {},
   "outputs": [
    {
     "name": "stdout",
     "output_type": "stream",
     "text": [
      "Loading Glove Model\n",
      "400000 words loaded!\n",
      "[-0.38497   0.80092   0.064106 -0.28355  -0.026759 -0.34532  -0.64253\n",
      " -0.11729  -0.33257   0.55243  -0.087813  0.9035    0.47102   0.56657\n",
      "  0.6985   -0.35229  -0.86542   0.90573   0.03576  -0.071705 -0.12327\n",
      "  0.54923   0.47005   0.35572   1.2611   -0.67581  -0.94983   0.68666\n",
      "  0.3871   -1.3492    0.63512   0.46416  -0.48814   0.83827  -0.9246\n",
      " -0.33722   0.53741  -1.0616   -0.081403 -0.67111   0.30923  -0.3923\n",
      " -0.55002  -0.68827   0.58049  -0.11626   0.013139 -0.57654   0.048833\n",
      "  0.67204 ]\n"
     ]
    }
   ],
   "source": [
    "import numpy as np\n",
    "\n",
    "def load_glove_model(File):\n",
    "    print(\"Loading Glove Model\")\n",
    "    glove_model = {}\n",
    "    with open(File,'r') as f:\n",
    "        for line in f:\n",
    "            split_line = line.split()\n",
    "            word = split_line[0]\n",
    "            embedding = np.array(split_line[1:], dtype=np.float64)\n",
    "            glove_model[word] = embedding\n",
    "    print(f\"{len(glove_model)} words loaded!\")\n",
    "    return glove_model\n",
    "\n",
    "word2vec = load_glove_model(\"/Users/ntt/dataspace/glove/glove.6B.50d.txt\")"
   ]
  },
  {
   "cell_type": "code",
   "execution_count": 5,
   "metadata": {},
   "outputs": [
    {
     "name": "stdout",
     "output_type": "stream",
     "text": [
      "[-0.38497   0.80092   0.064106 -0.28355  -0.026759 -0.34532  -0.64253\n",
      " -0.11729  -0.33257   0.55243  -0.087813  0.9035    0.47102   0.56657\n",
      "  0.6985   -0.35229  -0.86542   0.90573   0.03576  -0.071705 -0.12327\n",
      "  0.54923   0.47005   0.35572   1.2611   -0.67581  -0.94983   0.68666\n",
      "  0.3871   -1.3492    0.63512   0.46416  -0.48814   0.83827  -0.9246\n",
      " -0.33722   0.53741  -1.0616   -0.081403 -0.67111   0.30923  -0.3923\n",
      " -0.55002  -0.68827   0.58049  -0.11626   0.013139 -0.57654   0.048833\n",
      "  0.67204 ]\n"
     ]
    }
   ],
   "source": [
    "print(word2vec[\"hello\"])"
   ]
  },
  {
   "cell_type": "code",
   "execution_count": 10,
   "metadata": {},
   "outputs": [
    {
     "name": "stdout",
     "output_type": "stream",
     "text": [
      "[{'watch': array([ 6.2712e-02, -3.9197e-03,  2.3992e-01,  2.1172e-01,  5.0445e-01,\n",
      "       -1.1353e+00, -4.7891e-01, -2.4040e-02,  5.5087e-01, -4.1929e-01,\n",
      "       -1.3965e-01,  1.0770e-01, -1.4760e-01,  6.3408e-01,  1.0574e+00,\n",
      "        3.5272e-01,  2.4135e-02, -5.4576e-02, -5.9113e-01, -8.6496e-01,\n",
      "        2.9074e-01,  6.0829e-01,  2.3558e-01,  4.7937e-01,  3.9800e-01,\n",
      "       -1.4642e+00, -7.3413e-01,  1.6785e-01,  3.0850e-01, -8.3721e-01,\n",
      "        2.3876e+00,  8.1403e-01, -1.0647e-01, -6.1377e-01, -6.1824e-01,\n",
      "        2.1245e-01,  2.6781e-01, -4.7959e-01, -4.3121e-01, -3.4153e-01,\n",
      "       -5.9966e-02,  4.9828e-01,  1.5716e-01,  2.2026e-01,  4.1808e-01,\n",
      "        2.2931e-02, -2.3000e-03, -5.8393e-01, -3.2018e-01,  3.9699e-01])}, {'movies': array([ 0.11455  ,  0.065065 ,  0.28519  , -0.17229  , -0.39327  ,\n",
      "        0.0080943, -0.48165  , -1.5716   , -0.17068  ,  1.723    ,\n",
      "       -0.71525  ,  0.78738  , -0.13594  ,  0.88042  ,  1.7368   ,\n",
      "       -0.02498  ,  0.18193  ,  0.64291  , -0.5424   ,  0.045482 ,\n",
      "        1.0286   ,  0.67105  ,  0.78415  ,  1.036    ,  0.29029  ,\n",
      "       -0.96087  , -1.6743   , -0.26859  ,  0.40321  , -1.0013   ,\n",
      "        2.4088   ,  0.45553  ,  0.54342  , -0.50339  , -0.11549  ,\n",
      "        0.60122  , -0.10831  , -0.4685   , -1.4051   , -0.8593   ,\n",
      "       -0.183    ,  1.1568   ,  0.10774  , -0.10742  , -0.56539  ,\n",
      "        0.2745   ,  0.17375  , -0.85631  , -0.67384  ,  0.65348  ])}, {'to': array([ 0.68047 , -0.039263,  0.30186 , -0.17792 ,  0.42962 ,  0.032246,\n",
      "       -0.41376 ,  0.13228 , -0.29847 , -0.085253,  0.17118 ,  0.22419 ,\n",
      "       -0.10046 , -0.43653 ,  0.33418 ,  0.67846 ,  0.057204, -0.34448 ,\n",
      "       -0.42785 , -0.43275 ,  0.55963 ,  0.10032 ,  0.18677 , -0.26854 ,\n",
      "        0.037334, -2.0932  ,  0.22171 , -0.39868 ,  0.20912 , -0.55725 ,\n",
      "        3.8826  ,  0.47466 , -0.95658 , -0.37788 ,  0.20869 , -0.32752 ,\n",
      "        0.12751 ,  0.088359,  0.16351 , -0.21634 , -0.094375,  0.018324,\n",
      "        0.21048 , -0.03088 , -0.19722 ,  0.082279, -0.09434 , -0.073297,\n",
      "       -0.064699, -0.26044 ])}, {'Pierre': None}, {'loves': array([-0.38863 ,  0.68109 , -0.5483  ,  0.056571,  0.7836  ,  0.19163 ,\n",
      "       -0.53831 , -0.02081 , -0.29117 ,  0.58388 , -0.10197 ,  0.84374 ,\n",
      "       -0.1416  , -0.098952,  1.0285  ,  0.16724 ,  0.48006 ,  1.0697  ,\n",
      "        0.3469  , -0.16351 , -0.31767 ,  1.1014  ,  0.09416 ,  0.95682 ,\n",
      "        1.3593  , -1.2371  , -0.68687 ,  0.12567 ,  0.80247 , -1.0429  ,\n",
      "        1.0038  ,  0.82714 , -0.10672 ,  0.039336, -0.47256 ,  0.11465 ,\n",
      "       -0.42783 ,  0.16441 ,  0.16093 , -0.46638 ,  0.2125  ,  0.3318  ,\n",
      "       -0.12432 , -0.32053 ,  0.46792 ,  0.47077 , -0.082214, -0.81004 ,\n",
      "       -0.12159 ,  0.77407 ])}, {'everybody': array([-3.6492e-01, -1.3237e-02,  2.1301e-01, -4.0515e-01,  1.0934e+00,\n",
      "       -5.4383e-01, -3.1472e-01,  4.2242e-01, -1.6122e-01,  2.5724e-01,\n",
      "       -2.1721e-01,  2.9635e-01, -7.9196e-01, -2.7690e-02,  1.1767e+00,\n",
      "        4.9372e-01,  6.6496e-01,  4.7429e-01,  3.1658e-01, -8.1940e-01,\n",
      "       -5.1762e-01,  8.7636e-01,  3.0481e-01,  6.3253e-01,  1.2503e+00,\n",
      "       -1.7193e+00, -6.8570e-01,  6.3448e-01,  1.1682e+00, -1.1608e+00,\n",
      "        2.4509e+00,  1.1920e+00, -9.2188e-02, -4.7165e-02, -7.1208e-01,\n",
      "       -2.8238e-01,  1.5341e-01, -7.6044e-02,  4.1601e-01, -4.6411e-01,\n",
      "       -4.0014e-01, -2.4021e-03, -2.5959e-01,  3.0409e-01, -3.1798e-02,\n",
      "        2.7240e-01, -1.7576e-01, -7.9140e-02, -7.9116e-02,  9.9755e-01])}, {'Nicolas': None}, {'but': array([ 0.35934  , -0.2657   , -0.046477 , -0.2496   ,  0.54676  ,\n",
      "        0.25924  , -0.64458  ,  0.1736   , -0.53056  ,  0.13942  ,\n",
      "        0.062324 ,  0.18459  , -0.75495  , -0.19569  ,  0.70799  ,\n",
      "        0.44759  ,  0.27031  , -0.32885  , -0.38891  , -0.61606  ,\n",
      "       -0.484    ,  0.41703  ,  0.34794  , -0.19706  ,  0.40734  ,\n",
      "       -2.1488   , -0.24284  ,  0.33809  ,  0.43993  , -0.21616  ,\n",
      "        3.7635   ,  0.19002  , -0.12503  , -0.38228  ,  0.12944  ,\n",
      "       -0.18272  ,  0.076803 ,  0.51579  ,  0.0072516, -0.29192  ,\n",
      "       -0.27523  ,  0.40593  , -0.040394 ,  0.28353  , -0.024724 ,\n",
      "        0.10563  , -0.32879  ,  0.10673  , -0.11503  ,  0.074678 ])}, {'football': array([-1.8209  ,  0.70094 , -1.1403  ,  0.34363 , -0.42266 , -0.92479 ,\n",
      "       -1.3942  ,  0.28512 , -0.78416 , -0.52579 ,  0.89627 ,  0.35899 ,\n",
      "       -0.80087 , -0.34636 ,  1.0854  , -0.087046,  0.63411 ,  1.1429  ,\n",
      "       -1.6264  ,  0.41326 , -1.1283  , -0.16645 ,  0.17424 ,  0.99585 ,\n",
      "       -0.81838 , -1.7724  ,  0.078281,  0.13382 , -0.59779 , -0.45068 ,\n",
      "        2.5474  ,  1.0693  , -0.27017 , -0.75646 ,  0.24757 ,  1.0261  ,\n",
      "        0.11329 ,  0.17668 , -0.23257 , -1.1561  , -0.10665 , -0.25377 ,\n",
      "       -0.65102 ,  0.32393 , -0.58262 ,  0.88137 , -0.13465 ,  0.96903 ,\n",
      "       -0.076259, -0.59909 ])}, {'unlike': array([ 0.40351  ,  0.25297  ,  0.058938 ,  0.016263 , -0.16723  ,\n",
      "        0.49866  , -0.46665  , -0.39667  , -0.42482  ,  0.22456  ,\n",
      "        0.17972  ,  0.31613  ,  0.17297  ,  0.25262  ,  0.21552  ,\n",
      "        0.4215   ,  0.092249 ,  0.26599  , -0.079251 , -0.50896  ,\n",
      "       -0.30306  , -0.42921  ,  0.1109   ,  0.4603   , -0.072813 ,\n",
      "       -1.1166   , -0.6532   , -0.16932  ,  0.0043999, -0.035547 ,\n",
      "        2.3802   , -0.17461  ,  0.0065762, -0.57749  ,  0.17811  ,\n",
      "        0.080492 , -0.087587 ,  0.072499 , -0.75795  , -0.15779  ,\n",
      "       -0.15288  ,  0.24441  ,  0.076898 ,  0.52795  ,  0.16373  ,\n",
      "        0.37204  , -0.21652  , -0.3913   , -0.56267  ,  0.10644  ])}, {'Disney': None}]\n"
     ]
    }
   ],
   "source": [
    "import nltk\n",
    "from nltk.tokenize import word_tokenize\n",
    "\n",
    "text = \"Nicolas loves to watch Disney movies but everybody loves Disney movies. Pierre loves football, unlike Nicolas.\"\n",
    "\n",
    "tokens = word_tokenize(text)\n",
    "# tokens_no_stops = [t for t in tokens if t not in stop_words]\n",
    "# print(tokens_no_stops)\n",
    "\n",
    "tokens = [t for t in tokens if t.isalpha()]\n",
    "# print(tokens)\n",
    "\n",
    "BOW = map(lambda x : {x:word2vec.get(x, None)}, set(tokens))\n",
    "print(list(BOW))"
   ]
  },
  {
   "cell_type": "code",
   "execution_count": 12,
   "metadata": {},
   "outputs": [],
   "source": [
    "import numpy as np\n",
    "import pandas as pd\n",
    "# Function that allows to read a pretrained model and returns words and a dictionary of word embeddings\n",
    "def read_glove_vecs(glove_file):\n",
    "    with open(glove_file, 'r') as f:\n",
    "        words = []\n",
    "        word_to_vec_map = {}\n",
    "\n",
    "        for line in f:\n",
    "            line = line.strip().split()\n",
    "            curr_word = line[0]\n",
    "            words.append(curr_word)\n",
    "            word_to_vec_map[curr_word] = np.array(line[1:], dtype=np.float64)\n",
    "\n",
    "    return words, word_to_vec_map"
   ]
  },
  {
   "cell_type": "code",
   "execution_count": 13,
   "metadata": {},
   "outputs": [
    {
     "data": {
      "text/plain": [
       "400000"
      ]
     },
     "execution_count": 13,
     "metadata": {},
     "output_type": "execute_result"
    }
   ],
   "source": [
    "words, word_to_vec_map = read_glove_vecs(\"/Users/ntt/dataspace/glove/glove.6B.50d.txt\")\n",
    "len(words)"
   ]
  },
  {
   "cell_type": "code",
   "execution_count": 14,
   "metadata": {},
   "outputs": [
    {
     "name": "stdout",
     "output_type": "stream",
     "text": [
      "number of words: 400000\n",
      "5 words examples: ['themselves', 'firm', 'injured', 'itself', 'governor', 'movie', 'range', 'cross', 'track', 'programs']\n",
      "dimension of word embedding: ( 400000 , 50 )\n",
      "example of word embedding: [ 0.76989   1.181    -1.1299   -0.74725  -0.5969   -1.0518   -0.46552\n",
      "  0.27009  -0.99243  -0.04864   0.28642  -0.75261  -1.0566   -0.19205\n",
      "  0.572    -0.24391  -0.36054  -0.70876  -0.91951  -0.27024   1.5131\n",
      "  1.0313   -0.55713   0.52952  -0.71494  -1.0949   -0.60565   0.31329\n",
      " -0.44488   0.55915   2.1429    0.43389  -0.5529   -0.24261  -0.43679\n",
      " -0.96014   0.25828   0.79385   0.37132   0.49623   0.84359  -0.25875\n",
      "  1.5616   -1.1199    0.091676  0.076675 -0.45084  -0.86104   0.97599\n",
      " -0.35615 ]\n"
     ]
    }
   ],
   "source": [
    "pd.DataFrame(word_to_vec_map).head()\n",
    "print('number of words:', len(words))\n",
    "print('5 words examples:', words[1000:1010])\n",
    "print('dimension of word embedding: (', len(word_to_vec_map),',',len(word_to_vec_map['hello']), ')')\n",
    "print('example of word embedding:', word_to_vec_map['paris'])"
   ]
  },
  {
   "cell_type": "code",
   "execution_count": 15,
   "metadata": {},
   "outputs": [],
   "source": [
    "# We choose a bunch of words we want to visualize\n",
    "words_to_viz = ['president', 'obama', 'trump', 'minister', 'power', 'goverment', 'law',\n",
    " 'apple', 'banana', 'pasta', 'pizza', 'burger', 'food', 'snack', 'meal', 'dinner',\n",
    " 'france', 'paris', 'japan', 'tokyo', 'rome', 'italy', 'country', 'city',\n",
    " 'man', 'woman', 'girl', 'boy', 'daughter', 'son', 'father', 'mother',\n",
    " 'school', 'college', 'university', 'homework', 'student', 'scholarship',\n",
    " 'company', 'work', 'employee', 'boss', 'hire', 'salary', 'startup']\n",
    "# We compute the word embedding of those words\n",
    "embed_to_viz = []\n",
    "for w in words_to_viz:\n",
    "    embed_to_viz.append(word_to_vec_map[w])"
   ]
  },
  {
   "cell_type": "code",
   "execution_count": 17,
   "metadata": {},
   "outputs": [
    {
     "name": "stderr",
     "output_type": "stream",
     "text": [
      "/opt/anaconda3/lib/python3.7/site-packages/ipykernel_launcher.py:12: MatplotlibDeprecationWarning: The 's' parameter of annotate() has been renamed 'text' since Matplotlib 3.3; support for the old name will be dropped two minor releases later.\n",
      "  if sys.path[0] == '':\n"
     ]
    },
    {
     "data": {
      "text/plain": [
       "[]"
      ]
     },
     "execution_count": 17,
     "metadata": {},
     "output_type": "execute_result"
    },
    {
     "data": {
      "image/png": "[encoded data removed]",
      "text/plain": [
       "<Figure size 1080x1080 with 1 Axes>"
      ]
     },
     "metadata": {
      "needs_background": "light"
     },
     "output_type": "display_data"
    }
   ],
   "source": [
    "%matplotlib inline\n",
    "from sklearn.manifold import TSNE\n",
    "import matplotlib.pyplot as plt\n",
    "\n",
    "# We compute the t-SNE of the word embeddings\n",
    "tsne = TSNE(n_components=2, perplexity=10)\n",
    "viz = tsne.fit_transform(embed_to_viz)\n",
    "\n",
    "# We plot the results of the t-SNE\n",
    "plt.figure(figsize=(15,15))\n",
    "for i, w in enumerate(words_to_viz):\n",
    "    plt.annotate(s=w, xy=(viz[i,0], viz[i, 1]), xytext=(viz[i,0]+0.5, viz[i, 1]+0.5))\n",
    "plt.scatter(viz[:,0], viz[:,1])\n",
    "plt.plot()"
   ]
  },
  {
   "cell_type": "code",
   "execution_count": null,
   "metadata": {},
   "outputs": [],
   "source": []
  }
 ],
 "metadata": {
  "kernelspec": {
   "display_name": "Python 3 (ipykernel)",
   "language": "python",
   "name": "python3"
  },
  "language_info": {
   "codemirror_mode": {
    "name": "ipython",
    "version": 3
   },
   "file_extension": ".py",
   "mimetype": "text/x-python",
   "name": "python",
   "nbconvert_exporter": "python",
   "pygments_lexer": "ipython3",
   "version": "3.9.7"
  }
 },
 "nbformat": 4,
 "nbformat_minor": 2
}
