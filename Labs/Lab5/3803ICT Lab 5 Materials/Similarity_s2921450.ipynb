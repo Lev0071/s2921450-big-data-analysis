{
 "cells": [
  {
   "cell_type": "markdown",
   "metadata": {},
   "source": [
    "# Similarity"
   ]
  },
  {
   "cell_type": "markdown",
   "metadata": {},
   "source": [
    "We will work on applying similarity: Jaccard and Cosine similarity. This exercise is a simple application of the lecture."
   ]
  },
  {
   "cell_type": "markdown",
   "metadata": {},
   "source": [
    "Begin by importing the needed libraries:"
   ]
  },
  {
   "cell_type": "code",
   "execution_count": 2,
   "metadata": {},
   "outputs": [],
   "source": [
    "# import needed libraries\n",
    "import nltk\n",
    "import numpy as np\n",
    "import pandas as pd"
   ]
  },
  {
   "cell_type": "markdown",
   "metadata": {},
   "source": [
    "We will work with the following examples:"
   ]
  },
  {
   "cell_type": "code",
   "execution_count": 3,
   "metadata": {},
   "outputs": [],
   "source": [
    "A = \"Outside the classroom, Stallman pursued his studies with even more diligence, rushing off to fulfill his laboratory-assistant duties at Rockefeller University during the week and dodging the Vietnam protesters on his way to Saturday school at Columbia. It was there, while the rest of the Science Honors Program students sat around discussing their college choices, that Stallman finally took a moment to participate in the preclass bull session.\"\n",
    "B = \"To facilitate the process, AI Lab hackers had built a system that displayed both the source and display modes on a split screen. Despite this innovative hack, switching from mode to mode was still a nuisance.\"\n",
    "C = \"With no dorm and no dancing, Stallman's social universe imploded. Like an astronaut experiencing the aftereffects of zero-gravity, Stallman found that his ability to interact with nonhackers, especially female nonhackers, had atrophied significantly. After 16 weeks in the AI Lab, the self confidence he'd been quietly accumulating during his 4 years at Harvard was virtually gone.\""
   ]
  },
  {
   "cell_type": "markdown",
   "metadata": {},
   "source": [
    "Begin by computing the Jaccard Similarity J of all possibilities:\n",
    "* J(A, B)\n",
    "* J(B, C)\n",
    "* J(A, C)"
   ]
  },
  {
   "cell_type": "code",
   "execution_count": 4,
   "metadata": {},
   "outputs": [
    {
     "name": "stdout",
     "output_type": "stream",
     "text": [
      "Jaccard Similarity AB: 0.08536585365853659\n",
      "Jaccard Similarity BC: 0.09210526315789473\n",
      "Jaccard Similarity AC: 0.125\n"
     ]
    }
   ],
   "source": [
    "# TODO: compute the Jaccard similarities\n",
    "# Split the sentences\n",
    "# Into sets, these are the circles in a Venn diagram\n",
    "\n",
    "a = set(A.split()) # Funtion in a function split the words into an array then convert the array to a set\n",
    "b = set(B.split())\n",
    "c = set(C.split())\n",
    "\n",
    "# Compute the intersection and union\n",
    "\n",
    "## Intersection calculations\n",
    "intersectionAB = a.intersection(b)\n",
    "intersectionBC = b.intersection(c)\n",
    "intersectionAC = a.intersection(c)\n",
    "\n",
    "## Union calculations\n",
    "unionAB = a.union(b)\n",
    "unionBC = b.union(c)\n",
    "unionAC = a.union(c)\n",
    "\n",
    "# Compute and print the Jaccard Similarity\n",
    "\n",
    "J_AB = len(intersectionAB)/len(unionAB)\n",
    "print(\"Jaccard Similarity AB:\",J_AB)\n",
    "J_BC = len(intersectionBC)/len(unionBC)\n",
    "print(\"Jaccard Similarity BC:\",J_BC)\n",
    "J_AC = len(intersectionAC)/len(unionAC)\n",
    "print(\"Jaccard Similarity AC:\",J_AC)"
   ]
  },
  {
   "cell_type": "markdown",
   "metadata": {},
   "source": [
    "What are the closest to the other according to Jaccard Similarity?\n",
    "\n",
    "Now let's do the same using TF-IDF and Cosine Similarity. Compute the TF-IDF and cosine similarities and print them."
   ]
  },
  {
   "cell_type": "code",
   "execution_count": 11,
   "metadata": {
    "scrolled": true
   },
   "outputs": [
    {
     "name": "stdout",
     "output_type": "stream",
     "text": [
      "cos(A,B): 0.16793269576264072\n",
      "cos(B,C): 0.13618963113796587\n",
      "cos(A,C): 0.28502960323339077\n"
     ]
    },
    {
     "data": {
      "image/png": "[encoded data removed]",
      "text/plain": [
       "<Figure size 432x288 with 2 Axes>"
      ]
     },
     "metadata": {
      "needs_background": "light"
     },
     "output_type": "display_data"
    }
   ],
   "source": [
    "# TODO: compute the TF-IDF of A, B and C and the cosine similarities of all possibilities\n",
    "\n",
    "# no. of times a word appears in a doc : no. of docs the word appears in\n",
    "\n",
    "from sklearn.feature_extraction.text import TfidfVectorizer\n",
    "from sklearn.metrics.pairwise import cosine_similarity\n",
    "\n",
    "vectoriser = TfidfVectorizer()\n",
    "tf_idf = vectoriser.fit_transform([A,B,C]).toarray()\n",
    "\n",
    "sim = cosine_similarity(tf_idf,tf_idf)\n",
    "\n",
    "import seaborn as seaB\n",
    "import matplotlib.pyplot as plt\n",
    "seaB.heatmap(sim,annot=True,xticklabels=[\"A\",\"B\",\"C\"], yticklabels=[\"A\",\"B\",\"C\"])\n",
    "\n",
    "print(\"cos(A,B):\",sim[0][1])\n",
    "print(\"cos(B,C):\",sim[1][2])\n",
    "print(\"cos(A,C):\",sim[0][2])"
   ]
  },
  {
   "cell_type": "markdown",
   "metadata": {},
   "source": [
    "Is it consistent with the Jaccard values?"
   ]
  },
  {
   "cell_type": "markdown",
   "metadata": {},
   "source": [
    "There is a similarity for AC, however not so much in the case of BC and AB although they are somewhat similiar"
   ]
  }
 ],
 "metadata": {
  "kernelspec": {
   "display_name": "Python 3 (ipykernel)",
   "language": "python",
   "name": "python3"
  },
  "language_info": {
   "codemirror_mode": {
    "name": "ipython",
    "version": 3
   },
   "file_extension": ".py",
   "mimetype": "text/x-python",
   "name": "python",
   "nbconvert_exporter": "python",
   "pygments_lexer": "ipython3",
   "version": "3.9.7"
  },
  "toc": {
   "base_numbering": 1,
   "nav_menu": {},
   "number_sections": true,
   "sideBar": true,
   "skip_h1_title": false,
   "title_cell": "Table of Contents",
   "title_sidebar": "Contents",
   "toc_cell": false,
   "toc_position": {},
   "toc_section_display": true,
   "toc_window_display": false
  }
 },
 "nbformat": 4,
 "nbformat_minor": 2
}
