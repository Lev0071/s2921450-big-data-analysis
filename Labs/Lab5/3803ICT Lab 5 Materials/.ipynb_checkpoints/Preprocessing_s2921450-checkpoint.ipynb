{
 "cells": [
  {
   "cell_type": "markdown",
   "metadata": {},
   "source": [
    "# 01-Preprocessing"
   ]
  },
  {
   "cell_type": "markdown",
   "metadata": {},
   "source": [
    "The first NLP exercise is about preprocessing.\n",
    "\n",
    "You will practice preprocessing using NLTK on raw data. \n",
    "This is the first step in most of the NLP projects, so you have to master it."
   ]
  },
  {
   "cell_type": "markdown",
   "metadata": {},
   "source": [
    "We will play with the *coldplay.csv* dataset, containing all the songs and lyrics of Coldplay."
   ]
  },
  {
   "cell_type": "markdown",
   "metadata": {},
   "source": [
    "As you know, the first step is to import some libraries. So import *nltk* as well as all the libraries you will need."
   ]
  },
  {
   "cell_type": "code",
   "execution_count": 3,
   "metadata": {},
   "outputs": [
    {
     "name": "stderr",
     "output_type": "stream",
     "text": [
      "[nltk_data] Downloading package punkt to /Users/yasin/nltk_data...\n",
      "[nltk_data]   Package punkt is already up-to-date!\n",
      "[nltk_data] Downloading package stopwords to /Users/yasin/nltk_data...\n",
      "[nltk_data]   Package stopwords is already up-to-date!\n",
      "[nltk_data] Downloading package wordnet to /Users/yasin/nltk_data...\n",
      "[nltk_data]   Package wordnet is already up-to-date!\n",
      "[nltk_data] Downloading package averaged_perceptron_tagger to\n",
      "[nltk_data]     /Users/yasin/nltk_data...\n",
      "[nltk_data]   Package averaged_perceptron_tagger is already up-to-\n",
      "[nltk_data]       date!\n"
     ]
    }
   ],
   "source": [
    "# Import NLTK and all the needed libraries\n",
    "import nltk\n",
    "nltk.download('punkt') #Run this line one time to get the resource\n",
    "nltk.download('stopwords') #Run this line one time to get the resource\n",
    "nltk.download('wordnet') #Run this line one time to get the resource\n",
    "nltk.download('averaged_perceptron_tagger') #Run this line one time to get the resource\n",
    "import numpy as np\n",
    "import pandas as pd"
   ]
  },
  {
   "cell_type": "markdown",
   "metadata": {},
   "source": [
    "Load now the dataset using pandas."
   ]
  },
  {
   "cell_type": "code",
   "execution_count": 4,
   "metadata": {},
   "outputs": [
    {
     "data": {
      "text/html": [
       "<div>\n",
       "<style scoped>\n",
       "    .dataframe tbody tr th:only-of-type {\n",
       "        vertical-align: middle;\n",
       "    }\n",
       "\n",
       "    .dataframe tbody tr th {\n",
       "        vertical-align: top;\n",
       "    }\n",
       "\n",
       "    .dataframe thead th {\n",
       "        text-align: right;\n",
       "    }\n",
       "</style>\n",
       "<table border=\"1\" class=\"dataframe\">\n",
       "  <thead>\n",
       "    <tr style=\"text-align: right;\">\n",
       "      <th></th>\n",
       "      <th>Artist</th>\n",
       "      <th>Song</th>\n",
       "      <th>Link</th>\n",
       "      <th>Lyrics</th>\n",
       "    </tr>\n",
       "  </thead>\n",
       "  <tbody>\n",
       "    <tr>\n",
       "      <th>0</th>\n",
       "      <td>Coldplay</td>\n",
       "      <td>Another's Arms</td>\n",
       "      <td>/c/coldplay/anothers+arms_21079526.html</td>\n",
       "      <td>Late night watching tv  \\nUsed to be you here ...</td>\n",
       "    </tr>\n",
       "    <tr>\n",
       "      <th>1</th>\n",
       "      <td>Coldplay</td>\n",
       "      <td>Bigger Stronger</td>\n",
       "      <td>/c/coldplay/bigger+stronger_20032648.html</td>\n",
       "      <td>I want to be bigger stronger drive a faster ca...</td>\n",
       "    </tr>\n",
       "    <tr>\n",
       "      <th>2</th>\n",
       "      <td>Coldplay</td>\n",
       "      <td>Daylight</td>\n",
       "      <td>/c/coldplay/daylight_20032625.html</td>\n",
       "      <td>To my surprise, and my delight  \\nI saw sunris...</td>\n",
       "    </tr>\n",
       "    <tr>\n",
       "      <th>3</th>\n",
       "      <td>Coldplay</td>\n",
       "      <td>Everglow</td>\n",
       "      <td>/c/coldplay/everglow_21104546.html</td>\n",
       "      <td>Oh, they say people come  \\nThey say people go...</td>\n",
       "    </tr>\n",
       "    <tr>\n",
       "      <th>4</th>\n",
       "      <td>Coldplay</td>\n",
       "      <td>Every Teardrop Is A Waterfall</td>\n",
       "      <td>/c/coldplay/every+teardrop+is+a+waterfall_2091...</td>\n",
       "      <td>I turn the music up, I got my records on  \\nI ...</td>\n",
       "    </tr>\n",
       "  </tbody>\n",
       "</table>\n",
       "</div>"
      ],
      "text/plain": [
       "     Artist                           Song  \\\n",
       "0  Coldplay                 Another's Arms   \n",
       "1  Coldplay                Bigger Stronger   \n",
       "2  Coldplay                       Daylight   \n",
       "3  Coldplay                       Everglow   \n",
       "4  Coldplay  Every Teardrop Is A Waterfall   \n",
       "\n",
       "                                                Link  \\\n",
       "0            /c/coldplay/anothers+arms_21079526.html   \n",
       "1          /c/coldplay/bigger+stronger_20032648.html   \n",
       "2                 /c/coldplay/daylight_20032625.html   \n",
       "3                 /c/coldplay/everglow_21104546.html   \n",
       "4  /c/coldplay/every+teardrop+is+a+waterfall_2091...   \n",
       "\n",
       "                                              Lyrics  \n",
       "0  Late night watching tv  \\nUsed to be you here ...  \n",
       "1  I want to be bigger stronger drive a faster ca...  \n",
       "2  To my surprise, and my delight  \\nI saw sunris...  \n",
       "3  Oh, they say people come  \\nThey say people go...  \n",
       "4  I turn the music up, I got my records on  \\nI ...  "
      ]
     },
     "execution_count": 4,
     "metadata": {},
     "output_type": "execute_result"
    }
   ],
   "source": [
    "# TODO: Load the dataset in coldplay.csv\n",
    "df = pd.read_csv(\"coldplay.csv\")\n",
    "df.head(5)"
   ]
  },
  {
   "cell_type": "markdown",
   "metadata": {},
   "source": [
    "Now, check the dataset, play with it a bit: what are the columns? How many lines? Is there missing data?..."
   ]
  },
  {
   "cell_type": "code",
   "execution_count": 5,
   "metadata": {},
   "outputs": [
    {
     "name": "stdout",
     "output_type": "stream",
     "text": [
      "<class 'pandas.core.frame.DataFrame'>\n",
      "RangeIndex: 120 entries, 0 to 119\n",
      "Data columns (total 4 columns):\n",
      " #   Column  Non-Null Count  Dtype \n",
      "---  ------  --------------  ----- \n",
      " 0   Artist  120 non-null    object\n",
      " 1   Song    120 non-null    object\n",
      " 2   Link    120 non-null    object\n",
      " 3   Lyrics  120 non-null    object\n",
      "dtypes: object(4)\n",
      "memory usage: 3.9+ KB\n"
     ]
    }
   ],
   "source": [
    "# TODO: Explore the data\n",
    "df.info()"
   ]
  },
  {
   "cell_type": "markdown",
   "metadata": {},
   "source": [
    "Now select the song 'Every Teardrop Is A Waterfall' and save the Lyrics text into a variable. Print the output of this variable."
   ]
  },
  {
   "cell_type": "code",
   "execution_count": 33,
   "metadata": {},
   "outputs": [
    {
     "data": {
      "text/plain": [
       "0      Late night watching tv  \\nUsed to be you here ...\n",
       "1      I want to be bigger stronger drive a faster ca...\n",
       "2      To my surprise, and my delight  \\nI saw sunris...\n",
       "3      Oh, they say people come  \\nThey say people go...\n",
       "4      I turn the music up, I got my records on  \\nI ...\n",
       "                             ...                        \n",
       "115    Oh, angel sent from up above  \\nYou know you m...\n",
       "116    In my place, in my place  \\nWere lines that I ...\n",
       "117    Got a tattoo that says \"2gether thru life\"  \\n...\n",
       "118    From the very start  \\nIt came apart  \\nIt bro...\n",
       "119    Just because I'm losing  \\nDoesn't mean I'm lo...\n",
       "Name: Lyrics, Length: 120, dtype: object"
      ]
     },
     "execution_count": 33,
     "metadata": {},
     "output_type": "execute_result"
    }
   ],
   "source": [
    "# TODO: Select the song 'Every Teardrop Is A Waterfall'\n",
    "song = df[df[\"Song\"] == \"Every Teardrop Is A Waterfall\"][\"Lyrics\"]\n",
    "song\n",
    "# Note: Same instruction as tutorials however in this case the output does not start from:\n",
    "# \"4      I turn the music up, I got my records on  \\nI ...\""
   ]
  },
  {
   "cell_type": "markdown",
   "metadata": {},
   "source": [
    "As you can see, there is some preprocessing needed here. So let's do it! What is usually the first step?"
   ]
  },
  {
   "cell_type": "markdown",
   "metadata": {},
   "source": [
    "Tokenization, yes. So do tokenization on the lyrics of Every Teardrop Is A Waterfall.\n",
    "\n",
    "So you may have to import the needed library from NLTK if you did not yet.\n",
    "\n",
    "Be careful, the output you have from your pandas dataframe may not have the right type, so manipulate it wisely to get a string."
   ]
  },
  {
   "cell_type": "code",
   "execution_count": 29,
   "metadata": {},
   "outputs": [
    {
     "data": {
      "text/plain": [
       "['Late',\n",
       " 'night',\n",
       " 'watching',\n",
       " 'tv',\n",
       " 'Used',\n",
       " 'to',\n",
       " 'be',\n",
       " 'you',\n",
       " 'here',\n",
       " 'beside',\n",
       " 'me',\n",
       " 'Used',\n",
       " 'to',\n",
       " 'be',\n",
       " 'your',\n",
       " 'arms',\n",
       " 'around',\n",
       " 'me',\n",
       " 'Your',\n",
       " 'body',\n",
       " 'on',\n",
       " 'my',\n",
       " 'body',\n",
       " 'When',\n",
       " 'the',\n",
       " 'world',\n",
       " 'means',\n",
       " 'nothing',\n",
       " 'to',\n",
       " 'me',\n",
       " 'Another',\n",
       " \"'s\",\n",
       " 'arms',\n",
       " ',',\n",
       " 'another',\n",
       " \"'s\",\n",
       " 'arms',\n",
       " 'When',\n",
       " 'the',\n",
       " 'pain',\n",
       " 'just',\n",
       " 'rips',\n",
       " 'right',\n",
       " 'through',\n",
       " 'me',\n",
       " 'Another',\n",
       " \"'s\",\n",
       " 'arms',\n",
       " ',',\n",
       " 'another',\n",
       " \"'s\",\n",
       " 'arms',\n",
       " 'Late',\n",
       " 'night',\n",
       " 'watching',\n",
       " 'tv',\n",
       " 'Used',\n",
       " 'to',\n",
       " 'be',\n",
       " 'you',\n",
       " 'here',\n",
       " 'beside',\n",
       " 'me',\n",
       " 'Is',\n",
       " 'there',\n",
       " 'someone',\n",
       " 'there',\n",
       " 'to',\n",
       " 'reach',\n",
       " 'me',\n",
       " '?',\n",
       " 'Someone',\n",
       " 'there',\n",
       " 'to',\n",
       " 'find',\n",
       " 'me',\n",
       " '?',\n",
       " 'When',\n",
       " 'the',\n",
       " 'pain',\n",
       " 'just',\n",
       " 'rips',\n",
       " 'right',\n",
       " 'through',\n",
       " 'me',\n",
       " 'Another',\n",
       " \"'s\",\n",
       " 'arms',\n",
       " ',',\n",
       " 'another',\n",
       " \"'s\",\n",
       " 'arms',\n",
       " 'And',\n",
       " 'that',\n",
       " \"'s\",\n",
       " 'just',\n",
       " 'torture',\n",
       " 'to',\n",
       " 'me',\n",
       " 'Another',\n",
       " \"'s\",\n",
       " 'arms',\n",
       " ',',\n",
       " 'another',\n",
       " \"'s\",\n",
       " 'arms',\n",
       " 'Pull',\n",
       " 'yourself',\n",
       " 'into',\n",
       " 'me',\n",
       " 'Another',\n",
       " \"'s\",\n",
       " 'arms',\n",
       " ',',\n",
       " 'another',\n",
       " \"'s\",\n",
       " 'arms',\n",
       " 'When',\n",
       " 'the',\n",
       " 'world',\n",
       " 'means',\n",
       " 'nothing',\n",
       " 'to',\n",
       " 'me',\n",
       " 'Another',\n",
       " \"'s\",\n",
       " 'arms',\n",
       " ',',\n",
       " 'another',\n",
       " \"'s\",\n",
       " 'arms',\n",
       " 'Got',\n",
       " 'to',\n",
       " 'pull',\n",
       " 'you',\n",
       " 'close',\n",
       " 'into',\n",
       " 'me',\n",
       " 'Another',\n",
       " \"'s\",\n",
       " 'arms',\n",
       " ',',\n",
       " 'another',\n",
       " \"'s\",\n",
       " 'arms',\n",
       " 'Pull',\n",
       " 'yourself',\n",
       " 'right',\n",
       " 'through',\n",
       " 'me',\n",
       " 'Another',\n",
       " \"'s\",\n",
       " 'arms',\n",
       " ',',\n",
       " 'another',\n",
       " \"'s\",\n",
       " 'arms',\n",
       " 'Late',\n",
       " 'night',\n",
       " 'watching',\n",
       " 'tv',\n",
       " 'Wish',\n",
       " 'that',\n",
       " 'you',\n",
       " 'were',\n",
       " 'here',\n",
       " 'beside',\n",
       " 'me',\n",
       " 'Wish',\n",
       " 'that',\n",
       " 'your',\n",
       " 'arms',\n",
       " 'were',\n",
       " 'around',\n",
       " 'me',\n",
       " 'Your',\n",
       " 'body',\n",
       " 'on',\n",
       " 'my',\n",
       " 'body']"
      ]
     },
     "execution_count": 29,
     "metadata": {},
     "output_type": "execute_result"
    }
   ],
   "source": [
    "# TODO: Tokenize the lyrics of the song and save the tokens into a variable and print it\n",
    "# Tokenise\n",
    "from nltk.tokenize import word_tokenize\n",
    "tokens = word_tokenize(song.values[0])\n",
    "tokens"
   ]
  },
  {
   "cell_type": "markdown",
   "metadata": {},
   "source": [
    "It begins to look good. But still, we have the punctuation to remove, so let's do this."
   ]
  },
  {
   "cell_type": "code",
   "execution_count": 36,
   "metadata": {},
   "outputs": [
    {
     "data": {
      "text/plain": [
       "['Late',\n",
       " 'night',\n",
       " 'watching',\n",
       " 'tv',\n",
       " 'Used',\n",
       " 'to',\n",
       " 'be',\n",
       " 'you',\n",
       " 'here',\n",
       " 'beside',\n",
       " 'me',\n",
       " 'Used',\n",
       " 'to',\n",
       " 'be',\n",
       " 'your',\n",
       " 'arms',\n",
       " 'around',\n",
       " 'me',\n",
       " 'Your',\n",
       " 'body',\n",
       " 'on',\n",
       " 'my',\n",
       " 'body',\n",
       " 'When',\n",
       " 'the',\n",
       " 'world',\n",
       " 'means',\n",
       " 'nothing',\n",
       " 'to',\n",
       " 'me',\n",
       " 'Another',\n",
       " 'arms',\n",
       " 'another',\n",
       " 'arms',\n",
       " 'When',\n",
       " 'the',\n",
       " 'pain',\n",
       " 'just',\n",
       " 'rips',\n",
       " 'right',\n",
       " 'through',\n",
       " 'me',\n",
       " 'Another',\n",
       " 'arms',\n",
       " 'another',\n",
       " 'arms',\n",
       " 'Late',\n",
       " 'night',\n",
       " 'watching',\n",
       " 'tv',\n",
       " 'Used',\n",
       " 'to',\n",
       " 'be',\n",
       " 'you',\n",
       " 'here',\n",
       " 'beside',\n",
       " 'me',\n",
       " 'Is',\n",
       " 'there',\n",
       " 'someone',\n",
       " 'there',\n",
       " 'to',\n",
       " 'reach',\n",
       " 'me',\n",
       " 'Someone',\n",
       " 'there',\n",
       " 'to',\n",
       " 'find',\n",
       " 'me',\n",
       " 'When',\n",
       " 'the',\n",
       " 'pain',\n",
       " 'just',\n",
       " 'rips',\n",
       " 'right',\n",
       " 'through',\n",
       " 'me',\n",
       " 'Another',\n",
       " 'arms',\n",
       " 'another',\n",
       " 'arms',\n",
       " 'And',\n",
       " 'that',\n",
       " 'just',\n",
       " 'torture',\n",
       " 'to',\n",
       " 'me',\n",
       " 'Another',\n",
       " 'arms',\n",
       " 'another',\n",
       " 'arms',\n",
       " 'Pull',\n",
       " 'yourself',\n",
       " 'into',\n",
       " 'me',\n",
       " 'Another',\n",
       " 'arms',\n",
       " 'another',\n",
       " 'arms',\n",
       " 'When',\n",
       " 'the',\n",
       " 'world',\n",
       " 'means',\n",
       " 'nothing',\n",
       " 'to',\n",
       " 'me',\n",
       " 'Another',\n",
       " 'arms',\n",
       " 'another',\n",
       " 'arms',\n",
       " 'Got',\n",
       " 'to',\n",
       " 'pull',\n",
       " 'you',\n",
       " 'close',\n",
       " 'into',\n",
       " 'me',\n",
       " 'Another',\n",
       " 'arms',\n",
       " 'another',\n",
       " 'arms',\n",
       " 'Pull',\n",
       " 'yourself',\n",
       " 'right',\n",
       " 'through',\n",
       " 'me',\n",
       " 'Another',\n",
       " 'arms',\n",
       " 'another',\n",
       " 'arms',\n",
       " 'Late',\n",
       " 'night',\n",
       " 'watching',\n",
       " 'tv',\n",
       " 'Wish',\n",
       " 'that',\n",
       " 'you',\n",
       " 'were',\n",
       " 'here',\n",
       " 'beside',\n",
       " 'me',\n",
       " 'Wish',\n",
       " 'that',\n",
       " 'your',\n",
       " 'arms',\n",
       " 'were',\n",
       " 'around',\n",
       " 'me',\n",
       " 'Your',\n",
       " 'body',\n",
       " 'on',\n",
       " 'my',\n",
       " 'body']"
      ]
     },
     "execution_count": 36,
     "metadata": {},
     "output_type": "execute_result"
    }
   ],
   "source": [
    "# TODO: Remove the punctuation, then save the result into a variable and print it\n",
    "word_tokens = [t for t in tokens if t.isalpha()]\n",
    "word_tokens"
   ]
  },
  {
   "cell_type": "markdown",
   "metadata": {},
   "source": [
    "We will now remove the stop words."
   ]
  },
  {
   "cell_type": "code",
   "execution_count": 50,
   "metadata": {},
   "outputs": [
    {
     "name": "stdout",
     "output_type": "stream",
     "text": [
      "['Late', 'night', 'watching', 'tv', 'Used', 'beside', 'Used', 'arms', 'around', 'Your', 'body', 'body', 'When', 'world', 'means', 'nothing', 'Another', 'arms', 'another', 'arms', 'When', 'pain', 'rips', 'right', 'Another', 'arms', 'another', 'arms', 'Late', 'night', 'watching', 'tv', 'Used', 'beside', 'Is', 'someone', 'reach', 'Someone', 'find', 'When', 'pain', 'rips', 'right', 'Another', 'arms', 'another', 'arms', 'And', 'torture', 'Another', 'arms', 'another', 'arms', 'Pull', 'Another', 'arms', 'another', 'arms', 'When', 'world', 'means', 'nothing', 'Another', 'arms', 'another', 'arms', 'Got', 'pull', 'close', 'Another', 'arms', 'another', 'arms', 'Pull', 'right', 'Another', 'arms', 'another', 'arms', 'Late', 'night', 'watching', 'tv', 'Wish', 'beside', 'Wish', 'arms', 'around', 'Your', 'body', 'body']\n"
     ]
    }
   ],
   "source": [
    "# TODO: remove the stop words using NLTK. Then put the result into a variable and print it\n",
    "\n",
    "# Stop words have no symmantic significance e.g. “a”, “the”, “is”, “are”\n",
    "from nltk.corpus import stopwords\n",
    "stop_words = stopwords.words('english')\n",
    "tokens_no_stops = [t for t in word_tokens if t not in stop_words]\n",
    "#tokens_no_stops\n",
    "print(tokens_no_stops)"
   ]
  },
  {
   "cell_type": "markdown",
   "metadata": {},
   "source": [
    "Okay we begin to have much less words in our song, right?\n",
    "\n",
    "Next step is lemmatization. But we had an issue in the lectures, you remember? Let's learn how to do it properly now.\n",
    "\n",
    "First let's try to do it naively. Import the WordNetLemmatizer and perform lemmatization with default options."
   ]
  },
  {
   "cell_type": "code",
   "execution_count": 67,
   "metadata": {},
   "outputs": [
    {
     "name": "stdout",
     "output_type": "stream",
     "text": [
      "['Late', 'night', 'watching', 'tv', 'Used', 'beside', 'Used', 'arm', 'around', 'Your', 'body', 'body', 'When', 'world', 'mean', 'nothing', 'Another', 'arm', 'another', 'arm', 'When', 'pain', 'rip', 'right', 'Another', 'arm', 'another', 'arm', 'Late', 'night', 'watching', 'tv', 'Used', 'beside', 'Is', 'someone', 'reach', 'Someone', 'find', 'When', 'pain', 'rip', 'right', 'Another', 'arm', 'another', 'arm', 'And', 'torture', 'Another', 'arm', 'another', 'arm', 'Pull', 'Another', 'arm', 'another', 'arm', 'When', 'world', 'mean', 'nothing', 'Another', 'arm', 'another', 'arm', 'Got', 'pull', 'close', 'Another', 'arm', 'another', 'arm', 'Pull', 'right', 'Another', 'arm', 'another', 'arm', 'Late', 'night', 'watching', 'tv', 'Wish', 'beside', 'Wish', 'arm', 'around', 'Your', 'body', 'body', 'Is', 'Is']\n"
     ]
    }
   ],
   "source": [
    "# TODO: Perform lemmatization using WordNetLemmatizer on our tokens\n",
    "\n",
    "# producing consintency in populating words that have essentially the same root meaning\n",
    "\n",
    "#tokens_no_stops.append(\"Is\")\n",
    "\n",
    "from nltk.stem import WordNetLemmatizer\n",
    "lemma = WordNetLemmatizer()\n",
    "lem_tokens = [lemm.lemmatize(t) for t in tokens_no_stops]\n",
    "print(lem_tokens)\n",
    "\n",
    "# notice \"arms\" replaced with \"arm\"\n",
    "# We want \"Is\" to be replaced with \"be\"\n",
    "# Is -- the state after becoming or being a sthing or state - noun\n",
    "# Be -- the state of being to the process of being or becomming - verb"
   ]
  },
  {
   "cell_type": "markdown",
   "metadata": {},
   "source": [
    "As you can see, it worked well on nouns (plural words are now singular for example).\n",
    "\n",
    "But verbs are not OK: we would 'is' to become 'be' for example.\n",
    "\n",
    "To do that, we need to do POS-tagging. So let's do this now."
   ]
  },
  {
   "cell_type": "markdown",
   "metadata": {},
   "source": [
    "POS-tagging means Part of speech tagging: basically it will classify words into categories: like verbs, nouns, advers and so on...\n",
    "\n",
    "In order to do that, we will use NLTK and the function *pos_tag*. You have to do it on the step before lemmatization, so use your variable containing all the tokens without punctuation and without stop words.\n",
    "\n",
    "Hint: you can check on the internet how the *pos_tag* function works [here](https://www.nltk.org/book/ch05.html)"
   ]
  },
  {
   "cell_type": "code",
   "execution_count": 68,
   "metadata": {},
   "outputs": [
    {
     "data": {
      "text/plain": [
       "[('Late', 'JJ'),\n",
       " ('night', 'NN'),\n",
       " ('watching', 'VBG'),\n",
       " ('tv', 'NN'),\n",
       " ('Used', 'VBN'),\n",
       " ('beside', 'RB'),\n",
       " ('Used', 'VBN'),\n",
       " ('arms', 'NNS'),\n",
       " ('around', 'IN'),\n",
       " ('Your', 'PRP$'),\n",
       " ('body', 'NN'),\n",
       " ('body', 'NN'),\n",
       " ('When', 'WRB'),\n",
       " ('world', 'NN'),\n",
       " ('means', 'VBZ'),\n",
       " ('nothing', 'NN'),\n",
       " ('Another', 'DT'),\n",
       " ('arms', 'NNS'),\n",
       " ('another', 'DT'),\n",
       " ('arms', 'NNS'),\n",
       " ('When', 'WRB'),\n",
       " ('pain', 'NN'),\n",
       " ('rips', 'NNS'),\n",
       " ('right', 'RB'),\n",
       " ('Another', 'DT'),\n",
       " ('arms', 'NNS'),\n",
       " ('another', 'DT'),\n",
       " ('arms', 'NNS'),\n",
       " ('Late', 'JJ'),\n",
       " ('night', 'NN'),\n",
       " ('watching', 'VBG'),\n",
       " ('tv', 'NN'),\n",
       " ('Used', 'VBN'),\n",
       " ('beside', 'NN'),\n",
       " ('Is', 'VBZ'),\n",
       " ('someone', 'NN'),\n",
       " ('reach', 'NN'),\n",
       " ('Someone', 'NNP'),\n",
       " ('find', 'NN'),\n",
       " ('When', 'WRB'),\n",
       " ('pain', 'NN'),\n",
       " ('rips', 'NNS'),\n",
       " ('right', 'RB'),\n",
       " ('Another', 'DT'),\n",
       " ('arms', 'NNS'),\n",
       " ('another', 'DT'),\n",
       " ('arms', 'NNS'),\n",
       " ('And', 'CC'),\n",
       " ('torture', 'NN'),\n",
       " ('Another', 'DT'),\n",
       " ('arms', 'NNS'),\n",
       " ('another', 'DT'),\n",
       " ('arms', 'NNS'),\n",
       " ('Pull', 'NNP'),\n",
       " ('Another', 'DT'),\n",
       " ('arms', 'NNS'),\n",
       " ('another', 'DT'),\n",
       " ('arms', 'NNS'),\n",
       " ('When', 'WRB'),\n",
       " ('world', 'NN'),\n",
       " ('means', 'VBZ'),\n",
       " ('nothing', 'NN'),\n",
       " ('Another', 'DT'),\n",
       " ('arms', 'NNS'),\n",
       " ('another', 'DT'),\n",
       " ('arms', 'NNS'),\n",
       " ('Got', 'NNP'),\n",
       " ('pull', 'RB'),\n",
       " ('close', 'RB'),\n",
       " ('Another', 'DT'),\n",
       " ('arms', 'NNS'),\n",
       " ('another', 'DT'),\n",
       " ('arms', 'NNS'),\n",
       " ('Pull', 'NNP'),\n",
       " ('right', 'NN'),\n",
       " ('Another', 'DT'),\n",
       " ('arms', 'NNS'),\n",
       " ('another', 'DT'),\n",
       " ('arms', 'NNS'),\n",
       " ('Late', 'JJ'),\n",
       " ('night', 'NN'),\n",
       " ('watching', 'VBG'),\n",
       " ('tv', 'NN'),\n",
       " ('Wish', 'NNP'),\n",
       " ('beside', 'IN'),\n",
       " ('Wish', 'JJ'),\n",
       " ('arms', 'NNS'),\n",
       " ('around', 'IN'),\n",
       " ('Your', 'PRP$'),\n",
       " ('body', 'NN'),\n",
       " ('body', 'NN'),\n",
       " ('Is', 'VBZ'),\n",
       " ('Is', 'JJ')]"
      ]
     },
     "execution_count": 68,
     "metadata": {},
     "output_type": "execute_result"
    }
   ],
   "source": [
    "# TODO: use the function pos_tag of NLTK to perform POS-tagging and print the result\n",
    "\n",
    "tags = nltk.pos_tag(tokens_no_stops)\n",
    "tags\n",
    "# At the end we have \"('Is', 'VBZ')\""
   ]
  },
  {
   "cell_type": "markdown",
   "metadata": {},
   "source": [
    "As you can see, it does not return values like 'a', 'n', 'v' or 'r' as the WordNet lemmatizer is expecting...\n",
    "\n",
    "So we have to convert the values from the NLTK POS-tagging to put them into the WordNet Lemmatizer. This is done in the function *get_wordnet_pos* written below. Try to understand it, and then we will reuse it."
   ]
  },
  {
   "cell_type": "code",
   "execution_count": 69,
   "metadata": {},
   "outputs": [],
   "source": [
    "from nltk.corpus import wordnet\n",
    "\n",
    "def get_wordnet_pos(pos_tag):\n",
    "    output = np.asarray(pos_tag)\n",
    "    for i in range(len(pos_tag)):\n",
    "        if pos_tag[i][1].startswith('J'):\n",
    "            output[i][1] = wordnet.ADJ\n",
    "        elif pos_tag[i][1].startswith('V'):\n",
    "            output[i][1] = wordnet.VERB\n",
    "        elif pos_tag[i][1].startswith('R'):\n",
    "            output[i][1] = wordnet.ADV\n",
    "        else:\n",
    "            output[i][1] = wordnet.NOUN\n",
    "    return output"
   ]
  },
  {
   "cell_type": "markdown",
   "metadata": {},
   "source": [
    "So now you have all we need to perform properly the lemmatization.\n",
    "\n",
    "So you have to use the following to do so:\n",
    "* your tags from the POS-tagging performed\n",
    "* the function *get_wordnet_pos*\n",
    "* the *WordNetLemmatizer*"
   ]
  },
  {
   "cell_type": "code",
   "execution_count": 75,
   "metadata": {
    "scrolled": true
   },
   "outputs": [
    {
     "name": "stdout",
     "output_type": "stream",
     "text": [
      "['Late', 'night', 'watch', 'tv', 'Used', 'beside', 'Used', 'arm', 'around', 'Your', 'body', 'body', 'When', 'world', 'mean', 'nothing', 'Another', 'arm', 'another', 'arm', 'When', 'pain', 'rip', 'right', 'Another', 'arm', 'another', 'arm', 'Late', 'night', 'watch', 'tv', 'Used', 'beside', 'Is', 'someone', 'reach', 'Someone', 'find', 'When', 'pain', 'rip', 'right', 'Another', 'arm', 'another', 'arm', 'And', 'torture', 'Another', 'arm', 'another', 'arm', 'Pull', 'Another', 'arm', 'another', 'arm', 'When', 'world', 'mean', 'nothing', 'Another', 'arm', 'another', 'arm', 'Got', 'pull', 'close', 'Another', 'arm', 'another', 'arm', 'Pull', 'right', 'Another', 'arm', 'another', 'arm', 'Late', 'night', 'watch', 'tv', 'Wish', 'beside', 'Wish', 'arm', 'around', 'Your', 'body', 'body', 'Is', 'Is']\n"
     ]
    }
   ],
   "source": [
    "# TODO: Perform the lemmatization properly\n",
    "\n",
    "wordnet_input = get_wordnet_pos(tags)\n",
    "#wordnet_input # Converted from the representation tabove to wordnet representation\n",
    "lem_tokens = [lemm.lemmatize(t,tag) for t,tag in wordnet_input]\n",
    "print(lem_tokens)"
   ]
  },
  {
   "cell_type": "markdown",
   "metadata": {},
   "source": [
    "What do you think?\n",
    "\n",
    "Still not perfect, but it's the best we can do for now."
   ]
  },
  {
   "cell_type": "markdown",
   "metadata": {},
   "source": [
    "Now you can try stemming, with the help of the lecture, and see the differences compared to the lemmatization"
   ]
  },
  {
   "cell_type": "code",
   "execution_count": 85,
   "metadata": {},
   "outputs": [
    {
     "name": "stdout",
     "output_type": "stream",
     "text": [
      "['late', 'night', 'watch', 'tv', 'use', 'besid', 'use', 'arm', 'around', 'your', 'bodi', 'bodi', 'when', 'world', 'mean', 'noth', 'anoth', 'arm', 'anoth', 'arm', 'when', 'pain', 'rip', 'right', 'anoth', 'arm', 'anoth', 'arm', 'late', 'night', 'watch', 'tv', 'use', 'besid', 'is', 'someon', 'reach', 'someon', 'find', 'when', 'pain', 'rip', 'right', 'anoth', 'arm', 'anoth', 'arm', 'and', 'tortur', 'anoth', 'arm', 'anoth', 'arm', 'pull', 'anoth', 'arm', 'anoth', 'arm', 'when', 'world', 'mean', 'noth', 'anoth', 'arm', 'anoth', 'arm', 'got', 'pull', 'close', 'anoth', 'arm', 'anoth', 'arm', 'pull', 'right', 'anoth', 'arm', 'anoth', 'arm', 'late', 'night', 'watch', 'tv', 'wish', 'besid', 'wish', 'arm', 'around', 'your', 'bodi', 'bodi', 'is', 'is']\n",
      "\n",
      "------\n",
      "arms\n",
      "arm\n",
      "------\n",
      "------\n",
      "Used\n",
      "use\n",
      "------\n",
      "------\n",
      "around\n",
      "around\n",
      "------\n",
      "------\n",
      "beside\n",
      "besid\n",
      "------\n"
     ]
    }
   ],
   "source": [
    "# TODO: Perform stemming\n",
    "\n",
    "# Stemming -- \n",
    "#print(tokens_no_stops[7])\n",
    "\n",
    "from nltk.stem import PorterStemmer\n",
    "stemmer = PorterStemmer()\n",
    "stemmed_tokens = [stemmer.stem(t) for t in tokens_no_stops]\n",
    "print(stemmed_tokens)\n",
    "\n",
    "print()\n",
    "print(\"------\")\n",
    "print(tokens_no_stops[7])\n",
    "print(stemmed_tokens[7])\n",
    "print(\"------\")\n",
    "\n",
    "print(\"------\")\n",
    "print(tokens_no_stops[6])\n",
    "print(stemmed_tokens[6])\n",
    "print(\"------\")\n",
    "\n",
    "print(\"------\")\n",
    "print(tokens_no_stops[8])\n",
    "print(stemmed_tokens[8])\n",
    "print(\"------\")\n",
    "\n",
    "print(\"------\")\n",
    "print(tokens_no_stops[5])\n",
    "print(stemmed_tokens[5])\n",
    "print(\"------\")\n",
    "\n",
    "# lower casing works as I had run the following commands in python shell:\n",
    "\n",
    "# >>> import nltk\n",
    "# >>> nltk.download()"
   ]
  },
  {
   "cell_type": "markdown",
   "metadata": {},
   "source": [
    "Do you see the difference? What would you use?"
   ]
  },
  {
   "cell_type": "code",
   "execution_count": null,
   "metadata": {},
   "outputs": [],
   "source": [
    "# I would only use stem tokens for word that are tags that best describe a video content to make searches effifient\n",
    "# stemm tokens can produce words that make no sense so I would use it where my token words are mostly nouns not adjectives\n",
    "\n",
    "#As it can be an erranous proccess as it removes prvieveed suffixes for n words that are not nouns\n",
    "#e.g. beside -> besid"
   ]
  }
 ],
 "metadata": {
  "kernelspec": {
   "display_name": "Python 3 (ipykernel)",
   "language": "python",
   "name": "python3"
  },
  "language_info": {
   "codemirror_mode": {
    "name": "ipython",
    "version": 3
   },
   "file_extension": ".py",
   "mimetype": "text/x-python",
   "name": "python",
   "nbconvert_exporter": "python",
   "pygments_lexer": "ipython3",
   "version": "3.9.7"
  },
  "toc": {
   "base_numbering": 1,
   "nav_menu": {},
   "number_sections": true,
   "sideBar": true,
   "skip_h1_title": false,
   "title_cell": "Table of Contents",
   "title_sidebar": "Contents",
   "toc_cell": false,
   "toc_position": {},
   "toc_section_display": true,
   "toc_window_display": false
  }
 },
 "nbformat": 4,
 "nbformat_minor": 2
}
